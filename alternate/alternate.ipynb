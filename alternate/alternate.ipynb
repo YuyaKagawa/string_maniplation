{
 "cells": [
  {
   "cell_type": "markdown",
   "metadata": {},
   "source": [
    "# 複数の文字列を交互に組み合わせる"
   ]
  },
  {
   "cell_type": "markdown",
   "metadata": {},
   "source": [
    "複数の文字列を交互に組み合わせた文字列を出力します。  \n",
    "e.g.   \n",
    "1番目の文字列: abcdef  \n",
    "2番目の文字列: あいう  \n",
    "3番目の文字列: 12345  \n",
    "の3つの文字列を頭から1文字ずつ組み合わせて、\"aあ1bい2cう3d4e5f\"という文字列を出力します。  \n",
    "ここで、\n",
    "<ul>\n",
    "    <li>文字列の個数は任意</li>\n",
    "    <li>それぞれの文字列の長さは任意</li>\n",
    "</ul>\n",
    "という条件を満たしておきます。  "
   ]
  },
  {
   "cell_type": "markdown",
   "metadata": {},
   "source": [
    "今回は、複数の文字列をnumpyの行列の形式でまとめ、それを文字列ではなく文字の方向で読むことで実現します。  \n",
    "e.g.   \n",
    "abcと123を  \n",
    "a,b.c  \n",
    "1,2,3  \n",
    "と行方向に格納し、改めて列方向に展開します。この場合はa1b2c3と読めます。  \n",
    "ここで、行列に格納するには、各文字列の長さはそれぞれ揃えなければなりません。  \n",
    "そこで、最も長い文字列の長さを取得し、短い文字列の長さを伸ばす操作をします。  \n",
    "一旦は\" \"（スペース）で穴埋めしておきます。  \n",
    "そしてflatten()で行列の要素を1次元のリストに変換し、joinでリストの要素を繋ぎ合わせます。  \n",
    "最後に埋めたスペースを削除し、結果の文字列を出力して出来上がりです。"
   ]
  },
  {
   "cell_type": "markdown",
   "metadata": {},
   "source": [
    "やったあとに気付いたのですが、既にやられていました。  \n",
    "https://stackoverflow.com/questions/48403767/merge-two-strings-with-alternate-chars-as-output  \n",
    "ただし、長さを任意にできる点で私のものの方が優位です。"
   ]
  },
  {
   "cell_type": "code",
   "execution_count": 1,
   "metadata": {
    "ExecuteTime": {
     "end_time": "2019-04-18T00:12:38.804731Z",
     "start_time": "2019-04-18T00:12:38.221237Z"
    }
   },
   "outputs": [],
   "source": [
    "import numpy as np # 行列操作"
   ]
  },
  {
   "cell_type": "code",
   "execution_count": 2,
   "metadata": {
    "ExecuteTime": {
     "end_time": "2019-04-17T15:07:57.957535Z",
     "start_time": "2019-04-17T15:07:46.932773Z"
    }
   },
   "outputs": [
    {
     "name": "stdout",
     "output_type": "stream",
     "text": [
      "交互にかみ合わせたい複数の文字列を入れてください: \n",
      "文字列は何個ですか: 3\n",
      "1番目の文字列を入力してください: abcdef\n",
      "2番目の文字列を入力してください: あいう\n",
      "3番目の文字列を入力してください: 12345\n",
      "出力:  aあ1bい2cう3d4e5f\n"
     ]
    }
   ],
   "source": [
    "print(\"交互にかみ合わせたい複数の文字列を入れてください: \")\n",
    "\n",
    "n=int(input(\"文字列は何個ですか: \"))\n",
    "\n",
    "string_list=[] # 元の文字列のリストの初期化\n",
    "\n",
    "# n個の文字列を入力してもらう\n",
    "for i in range(n):\n",
    "    string_list.append(input(\"{}番目の文字列を入力してください: \".format(i+1))) # 元の文字列のリストに追加\n",
    "    \n",
    "maxlen=len(max(string_list,key=len)) # 最も長い文字列の長さ\n",
    "\n",
    "# それぞれの文字列について、長さをmaxlenに揃えるようにする\n",
    "for i in range(n):\n",
    "    s=string_list[i] # 文字列\n",
    "    string_list[i]=list(s+\" \"*(maxlen-len(s))) # 長さがmaxlenになるように\" \"（スペース）を追加\n",
    "    \n",
    "output=\"\".join(np.array(string_list).T.flatten()).replace(\" \",\"\") # 1列に1つの文字列を入れ、行の方向に読み込み、最後にスペースを削除\n",
    "\n",
    "print(\"出力: \",output)"
   ]
  }
 ],
 "metadata": {
  "kernelspec": {
   "display_name": "Python 3",
   "language": "python",
   "name": "python3"
  },
  "language_info": {
   "codemirror_mode": {
    "name": "ipython",
    "version": 3
   },
   "file_extension": ".py",
   "mimetype": "text/x-python",
   "name": "python",
   "nbconvert_exporter": "python",
   "pygments_lexer": "ipython3",
   "version": "3.6.7"
  },
  "toc": {
   "base_numbering": 1,
   "nav_menu": {},
   "number_sections": true,
   "sideBar": true,
   "skip_h1_title": false,
   "title_cell": "Table of Contents",
   "title_sidebar": "Contents",
   "toc_cell": false,
   "toc_position": {},
   "toc_section_display": true,
   "toc_window_display": false
  }
 },
 "nbformat": 4,
 "nbformat_minor": 2
}
