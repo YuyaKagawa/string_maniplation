{
 "cells": [
  {
   "cell_type": "markdown",
   "metadata": {},
   "source": [
    "# 特定の文字を挟み込む"
   ]
  },
  {
   "cell_type": "markdown",
   "metadata": {},
   "source": [
    "ベースとなる文字列とそこに指定した文字を挟み込んだ文字列を出力します。  \n",
    "ただし、\n",
    "<ul>\n",
    "    <li>スペースで区切った各文章の最後には文字は入れない</li>\n",
    "</ul>\n",
    "という条件を満たします。  \n",
    "\n",
    "e.g.  \n",
    "文字列: ぶんぶんぶん はちがとぶ おいけのまわりにのばらがさいたよ ぶんぶんぶん はちがとぶ  \n",
    "文字: る  \n",
    "出力: ぶるんるぶるんるぶるん はるちるがるとるぶ おるいるけるのるまるわるりるにるのるばるらるがるさるいるたるよ ぶるんるぶるんるぶるん はるちるがるとるぶ \n",
    "\n",
    "動機:  \n",
    "小さい頃に歌ってた「ぶるんぶるんぶるん はるちるがるとるぶ～」の歌詞を再現したかったためです。"
   ]
  },
  {
   "cell_type": "code",
   "execution_count": 1,
   "metadata": {
    "ExecuteTime": {
     "end_time": "2019-04-22T10:15:38.918272Z",
     "start_time": "2019-04-22T10:15:38.912921Z"
    }
   },
   "outputs": [],
   "source": [
    "import re # 全角スペースと半角スペースどちらも対応するために"
   ]
  },
  {
   "cell_type": "code",
   "execution_count": 2,
   "metadata": {
    "ExecuteTime": {
     "end_time": "2019-04-22T10:16:15.786007Z",
     "start_time": "2019-04-22T10:15:40.439223Z"
    }
   },
   "outputs": [
    {
     "name": "stdout",
     "output_type": "stream",
     "text": [
      "文字列を入力してください: ぶん　ぶん　ぶん　はちがとぶ　おいけのまわりにのばらがさいたよ　ぶん　ぶん　ぶん　はちがとぶ\n",
      "挿入したい文字を入力してください: る\n",
      "出力:  ぶるん ぶるん ぶるん はるちるがるとるぶ おるいるけるのるまるわるりるにるのるばるらるがるさるいるたるよ ぶるん ぶるん ぶるん はるちるがるとるぶ \n"
     ]
    }
   ],
   "source": [
    "sentence=input(\"文字列を入力してください: \")\n",
    "character=input(\"挿入したい文字を入力してください: \")\n",
    "\n",
    "output=\"\" # 出力する文字列の初期化\n",
    "\n",
    "# スペースで区切られた各文についてみる\n",
    "for s in re.split(' |　',sentence):\n",
    "    output+=character.join(list(s))+\" \" # 各文字を指定した文字で連結\n",
    "\n",
    "print(\"出力: \",output)"
   ]
  },
  {
   "cell_type": "code",
   "execution_count": null,
   "metadata": {},
   "outputs": [],
   "source": []
  }
 ],
 "metadata": {
  "kernelspec": {
   "display_name": "Python 3",
   "language": "python",
   "name": "python3"
  },
  "language_info": {
   "codemirror_mode": {
    "name": "ipython",
    "version": 3
   },
   "file_extension": ".py",
   "mimetype": "text/x-python",
   "name": "python",
   "nbconvert_exporter": "python",
   "pygments_lexer": "ipython3",
   "version": "3.7.3"
  },
  "toc": {
   "base_numbering": 1,
   "nav_menu": {},
   "number_sections": true,
   "sideBar": true,
   "skip_h1_title": false,
   "title_cell": "Table of Contents",
   "title_sidebar": "Contents",
   "toc_cell": false,
   "toc_position": {
    "height": "calc(100% - 180px)",
    "left": "10px",
    "top": "150px",
    "width": "284.444px"
   },
   "toc_section_display": true,
   "toc_window_display": false
  }
 },
 "nbformat": 4,
 "nbformat_minor": 2
}
